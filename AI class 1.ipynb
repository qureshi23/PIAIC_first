{
 "cells": [
  {
   "cell_type": "code",
   "execution_count": 4,
   "metadata": {},
   "outputs": [
    {
     "name": "stdout",
     "output_type": "stream",
     "text": [
      "SUBHAN QURESHI\n",
      "NAEEM QURESHI\n",
      "0349-1820278\n",
      "42201-1361726-9\n"
     ]
    }
   ],
   "source": [
    "# %load f1.py\n",
    "print(\"SUBHAN QURESHI\")\n",
    "print(\"NAEEM QURESHI\")\n",
    "print(\"0349-1820278\")\n",
    "print(\"42201-1361726-9\")"
   ]
  },
  {
   "cell_type": "code",
   "execution_count": 22,
   "metadata": {},
   "outputs": [
    {
     "name": "stdout",
     "output_type": "stream",
     "text": [
      "Hello World\n",
      "Subhan Qureshi 19 Years\n",
      "Subhan**Qureshi**19**Years\n",
      "Subhan Qureshi 19 Years Subhan\n",
      " Qureshi\n",
      "Subhan Qure's'hi 19 Years\n"
     ]
    }
   ],
   "source": [
    "print(\"Hello World\")\n",
    "print(\"Subhan\",\"Qureshi\",19,\"Years\")\n",
    "print(\"Subhan\",\"Qureshi\",19,\"Years\",sep=\"**\")\n",
    "print(\"Subhan\",\"Qureshi\",19,\"Years\",end=\" \")\n",
    "print(\"Subhan\\n\",\"Qureshi\")\n",
    "print(\"Subhan\",\"Qure's'hi\",19,\"Years\")"
   ]
  },
  {
   "cell_type": "markdown",
   "metadata": {},
   "source": [
    "# DATA TYPE"
   ]
  },
  {
   "cell_type": "code",
   "execution_count": 27,
   "metadata": {},
   "outputs": [
    {
     "data": {
      "text/plain": [
       "list"
      ]
     },
     "execution_count": 27,
     "metadata": {},
     "output_type": "execute_result"
    }
   ],
   "source": [
    "names= [\"Qasim\",\"Mansoor\",\"Waqar\"]\n",
    "type(names)"
   ]
  },
  {
   "cell_type": "code",
   "execution_count": 29,
   "metadata": {},
   "outputs": [
    {
     "data": {
      "text/plain": [
       "tuple"
      ]
     },
     "execution_count": 29,
     "metadata": {},
     "output_type": "execute_result"
    }
   ],
   "source": [
    "names= (\"Qasim\",\"Mansoor\",\"Waqar\")\n",
    "type(names)"
   ]
  },
  {
   "cell_type": "code",
   "execution_count": 33,
   "metadata": {},
   "outputs": [
    {
     "data": {
      "text/plain": [
       "dict"
      ]
     },
     "execution_count": 33,
     "metadata": {},
     "output_type": "execute_result"
    }
   ],
   "source": [
    "names= {\"Qasim\":\"18\",\n",
    "        \"Mansoor\":\"16\",\n",
    "        \"Waqar\":\"14\"}\n",
    "type(names)"
   ]
  },
  {
   "cell_type": "code",
   "execution_count": 35,
   "metadata": {},
   "outputs": [
    {
     "data": {
      "text/plain": [
       "bool"
      ]
     },
     "execution_count": 35,
     "metadata": {},
     "output_type": "execute_result"
    }
   ],
   "source": [
    "a=True\n",
    "a\n",
    "type(a)"
   ]
  }
 ],
 "metadata": {
  "kernelspec": {
   "display_name": "Python 3",
   "language": "python",
   "name": "python3"
  },
  "language_info": {
   "codemirror_mode": {
    "name": "ipython",
    "version": 3
   },
   "file_extension": ".py",
   "mimetype": "text/x-python",
   "name": "python",
   "nbconvert_exporter": "python",
   "pygments_lexer": "ipython3",
   "version": "3.7.3"
  }
 },
 "nbformat": 4,
 "nbformat_minor": 2
}
